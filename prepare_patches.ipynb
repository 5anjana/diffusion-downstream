{
 "cells": [
  {
   "cell_type": "code",
   "execution_count": 1,
   "metadata": {},
   "outputs": [
    {
     "name": "stdout",
     "output_type": "stream",
     "text": [
      "Imports Complete!\n"
     ]
    }
   ],
   "source": [
    "import os\n",
    "import cv2\n",
    "import numpy as np\n",
    "from PIL import Image\n",
    "from tqdm import tqdm\n",
    "\n",
    "print('Imports Complete!')"
   ]
  },
  {
   "cell_type": "code",
   "execution_count": 2,
   "metadata": {},
   "outputs": [],
   "source": [
    "#Change paths accordingly\n",
    "\n",
    "destination_path = 'data/exp3/train_sub1_rm_ri/'\n",
    "image_path = '../data/lizard_v2/images/train/'\n",
    "type_map_path = '../data/lizard_v2/classes/train/' \n",
    "inst_map_path = '../data/lizard_v2/instances/train/' "
   ]
  },
  {
   "cell_type": "code",
   "execution_count": 3,
   "metadata": {},
   "outputs": [
    {
     "name": "stdout",
     "output_type": "stream",
     "text": [
      "8201\n"
     ]
    }
   ],
   "source": [
    "#To filter out few images from a directory\n",
    "\n",
    "strings_to_filter = os.listdir(image_path)\n",
    "\n",
    "strings_to_match = ['consep_4_', 'consep_5_', 'consep_6_', \n",
    "                    'crag_55_', 'crag_56_', 'crag_58_', 'crag_59_', 'crag_5_', 'crag_60_', \n",
    "                    'crag_61_', 'crag_62_', 'crag_63_', \n",
    "                    'dpath_52_', 'dpath_53_', 'dpath_54_', 'dpath_55_', 'dpath_56_', \n",
    "                    'dpath_57_', 'dpath_58_', 'dpath_59_', 'dpath_5_', 'dpath_60_', \n",
    "                    'glas_49_', 'glas_4_', 'glas_50_', 'glas_51_', 'glas_52_', 'glas_53_', \n",
    "                    'glas_54_', 'glas_55_', 'glas_56_', \n",
    "                    'pannuke_26_', 'pannuke_27_', 'pannuke_28_', 'pannuke_2_', 'pannuke_3_']\n",
    "\n",
    "images = []\n",
    "\n",
    "for string in strings_to_filter:\n",
    "    for match_string in strings_to_match:\n",
    "        if string.startswith(match_string):\n",
    "            images.append(string)\n",
    "            break\n",
    "\n",
    "print(len(images))"
   ]
  },
  {
   "cell_type": "code",
   "execution_count": null,
   "metadata": {},
   "outputs": [],
   "source": [
    "#To include all images from the directory\n",
    "\n",
    "# images = os.listdir(image_path)\n",
    "# print(len(images))"
   ]
  },
  {
   "cell_type": "code",
   "execution_count": 4,
   "metadata": {},
   "outputs": [
    {
     "name": "stderr",
     "output_type": "stream",
     "text": [
      "100%|██████████| 8201/8201 [00:43<00:00, 190.00it/s]\n"
     ]
    }
   ],
   "source": [
    "for file in tqdm(images):\n",
    "    type_map = Image.open(type_map_path + file)\n",
    "    inst_map = Image.open(inst_map_path + file)\n",
    "    image = Image.open(image_path + file)\n",
    "    \n",
    "    image_array = np.array(image)\n",
    "    image_array = cv2.resize(image_array, (256, 256))\n",
    "    \n",
    "    type_map_array = np.array(type_map, dtype='uint8')\n",
    "    type_map_array = cv2.resize(type_map_array, (256, 256), interpolation=cv2.INTER_NEAREST)\n",
    "    type_map_array = type_map_array.reshape((256, 256, 1))\n",
    "    \n",
    "    inst_map_array = np.array(inst_map, dtype='uint8')\n",
    "    inst_map_array = cv2.resize(inst_map_array, (256, 256), interpolation=cv2.INTER_NEAREST)\n",
    "    inst_map_array = inst_map_array.reshape((256, 256, 1))\n",
    "\n",
    "    if type_map_array.shape != (256, 256, 1):\n",
    "        print(type_map_array.shape)\n",
    "        raise ValueError(\"Type mask shape is not 256x256x1\")\n",
    "        \n",
    "    if type_map_array.shape != (256, 256, 1):\n",
    "        raise ValueError(\"Type mask shape is not 256x256x1\")\n",
    "        \n",
    "    if image_array.shape != (256, 256, 3):\n",
    "        raise ValueError(\"Image shape is not 256x256x3\")\n",
    "\n",
    "    # Save the mask array as an .npy file\n",
    "    np.save(destination_path + os.path.splitext(file)[0] + '_type_map.npy', type_map_array)\n",
    "    np.save(destination_path + os.path.splitext(file)[0] + '_inst_map.npy', inst_map_array)\n",
    "    np.save(destination_path + os.path.splitext(file)[0] + '_image.npy', image_array)"
   ]
  },
  {
   "cell_type": "code",
   "execution_count": 5,
   "metadata": {},
   "outputs": [
    {
     "data": {
      "text/plain": [
       "['consep_4__0_0_image.npy',\n",
       " 'consep_4__0_0_inst_map.npy',\n",
       " 'consep_4__0_0_type_map.npy',\n",
       " 'consep_4__0_128_image.npy',\n",
       " 'consep_4__0_128_inst_map.npy',\n",
       " 'consep_4__0_128_type_map.npy',\n",
       " 'consep_4__0_192_image.npy',\n",
       " 'consep_4__0_192_inst_map.npy',\n",
       " 'consep_4__0_192_type_map.npy',\n",
       " 'consep_4__0_256_image.npy']"
      ]
     },
     "execution_count": 5,
     "metadata": {},
     "output_type": "execute_result"
    }
   ],
   "source": [
    "l = os.listdir(destination_path)\n",
    "l.sort()\n",
    "l[0:10]"
   ]
  },
  {
   "cell_type": "code",
   "execution_count": null,
   "metadata": {},
   "outputs": [],
   "source": []
  }
 ],
 "metadata": {
  "kernelspec": {
   "display_name": "my-torch",
   "language": "python",
   "name": "my-torch"
  },
  "language_info": {
   "codemirror_mode": {
    "name": "ipython",
    "version": 3
   },
   "file_extension": ".py",
   "mimetype": "text/x-python",
   "name": "python",
   "nbconvert_exporter": "python",
   "pygments_lexer": "ipython3",
   "version": "3.8.8"
  }
 },
 "nbformat": 4,
 "nbformat_minor": 4
}
